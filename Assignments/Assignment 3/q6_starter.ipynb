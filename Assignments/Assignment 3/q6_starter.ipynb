{
 "cells": [
  {
   "cell_type": "code",
   "execution_count": 1,
   "id": "7057dd9b",
   "metadata": {},
   "outputs": [],
   "source": [
    "import pandas as pd\n",
    "import math\n",
    "from sklearn.linear_model import LogisticRegression\n",
    "import numpy as np\n",
    "# 1. Load the datasets using pandas\n",
    "X_train = pd.read_csv('lab3_dataset/q6/X_train_q6.csv')\n",
    "y_train = pd.read_csv('lab3_dataset/q6/y_train_q6.csv')\n",
    "X_test = pd.read_csv('lab3_dataset/q6/X_test_q6.csv')\n",
    "\n",
    "def log_loss(y_true, y_pred):\n",
    "    # if your y_true is a numpy array then the following line not needed.\n",
    "    # y_true should be \n",
    "    y_true = y_true.squeeze().to_numpy() # convert dataframe to numpy row array. \n",
    "    loss = 0\n",
    "    for i in range(len(y_true)):\n",
    "        # Calculate log loss\n",
    "        loss += -np.mean(y_true[i] * np.log(y_pred[i]) + (1 - y_true[i]) * np.log(1 - y_pred[i]))\n",
    "    return loss\n",
    "\n",
    "def logistic_regression_equation():\n",
    "    \"\"\" 2. use equation y = 1/(1+ e^-(w_0 + w_1x_1 + w_2x_2 + .... + w_nx_n), to calculate 'Chance of Admit' \n",
    "           given w0=w1=w2=....=wn=1. Calcuate the Mean Square Error for training data.\"\"\" \n",
    "\n",
    "    # Initialize the weights (w_0, w_1, w_2, ..., w_n) to 1\n",
    "    #X_train.shape[1] gives number of columns\n",
    "    \n",
    "    # write your code here.\n",
    "    \n",
    "\n",
    "    # wTx = dot product of w_1 to w_n with x_0 to x_(n-1) + w_0\n",
    "    # sigmoid(wTx)\n",
    "    y_predict=[]\n",
    "    # write your code here.\n",
    "\n",
    "    ll = log_loss(y_train, y_predict)\n",
    "    print(\"log_loss: \", ll) \n",
    "    \n",
    "def logistic_regression_library():\n",
    "    # 3. Implement linear regression using scikit-learn\n",
    "    # write your code here.\n",
    "    \n",
    "    # 4. Predict the output for the test dataset\n",
    "    # write your code here.\n",
    "\n",
    "    y_pred_df = pd.DataFrame(y_pred, columns=['Chance of Admit']).to_csv(\"y_predict_q6.csv\", index=False)\n",
    "    \n",
    "logistic_regression_equation()\n",
    "logistic_regression_library()"
   ]
  },
  {
   "cell_type": "code",
   "execution_count": null,
   "id": "f48549c9",
   "metadata": {},
   "outputs": [],
   "source": []
  }
 ],
 "metadata": {
  "kernelspec": {
   "display_name": "Python 3 (ipykernel)",
   "language": "python",
   "name": "python3"
  },
  "language_info": {
   "codemirror_mode": {
    "name": "ipython",
    "version": 3
   },
   "file_extension": ".py",
   "mimetype": "text/x-python",
   "name": "python",
   "nbconvert_exporter": "python",
   "pygments_lexer": "ipython3",
   "version": "3.7.6"
  }
 },
 "nbformat": 4,
 "nbformat_minor": 5
}

{
 "cells": [
  {
   "cell_type": "code",
   "execution_count": 5,
   "id": "7057dd9b",
   "metadata": {},
   "outputs": [
    {
     "name": "stdout",
     "output_type": "stream",
     "text": [
      "log_loss:  nan\n"
     ]
    },
    {
     "name": "stderr",
     "output_type": "stream",
     "text": [
      "/var/folders/00/q06dxns9317gvn0csh57d0r40000gn/T/ipykernel_73661/607307674.py:16: RuntimeWarning: divide by zero encountered in log\n",
      "  loss += -np.mean(y_true[i] * np.log(y_pred[i]) + (1 - y_true[i]) * np.log(1 - y_pred[i]))\n",
      "/var/folders/00/q06dxns9317gvn0csh57d0r40000gn/T/ipykernel_73661/607307674.py:16: RuntimeWarning: invalid value encountered in scalar multiply\n",
      "  loss += -np.mean(y_true[i] * np.log(y_pred[i]) + (1 - y_true[i]) * np.log(1 - y_pred[i]))\n",
      "/Users/joshua/anaconda3/lib/python3.11/site-packages/sklearn/utils/validation.py:1184: DataConversionWarning: A column-vector y was passed when a 1d array was expected. Please change the shape of y to (n_samples, ), for example using ravel().\n",
      "  y = column_or_1d(y, warn=True)\n",
      "/Users/joshua/anaconda3/lib/python3.11/site-packages/sklearn/linear_model/_logistic.py:460: ConvergenceWarning: lbfgs failed to converge (status=1):\n",
      "STOP: TOTAL NO. of ITERATIONS REACHED LIMIT.\n",
      "\n",
      "Increase the number of iterations (max_iter) or scale the data as shown in:\n",
      "    https://scikit-learn.org/stable/modules/preprocessing.html\n",
      "Please also refer to the documentation for alternative solver options:\n",
      "    https://scikit-learn.org/stable/modules/linear_model.html#logistic-regression\n",
      "  n_iter_i = _check_optimize_result(\n"
     ]
    }
   ],
   "source": [
    "import pandas as pd\n",
    "import math\n",
    "from sklearn.linear_model import LogisticRegression\n",
    "import numpy as np\n",
    "# 1. Load the datasets using pandas\n",
    "X_train = pd.read_csv('lab3_dataset/q6/X_train_q6.csv')\n",
    "y_train = pd.read_csv('lab3_dataset/q6/y_train_q6.csv')\n",
    "X_test = pd.read_csv('lab3_dataset/q6/X_test_q6.csv')\n",
    "\n",
    "def log_loss(y_true, y_pred):\n",
    "    # if your y_true is a numpy array then the following line not needed.\n",
    "    # y_true should be \n",
    "    #y_true = y_true.squeeze().to_numpy() # convert dataframe to numpy row array. \n",
    "    loss = 0\n",
    "    for i in range(len(y_true)):\n",
    "        loss += -np.mean(y_true[i] * np.log(y_pred[i]) + (1 - y_true[i]) * np.log(1 - y_pred[i]))\n",
    "    return loss\n",
    "\n",
    "def logistic_regression_equation():\n",
    "    \"\"\" 2. use equation y = 1/(1+ e^-(w_0 + w_1x_1 + w_2x_2 + .... + w_nx_n), to calculate 'Chance of Admit' \n",
    "           given w0=w1=w2=....=wn=1. Calcuate the Mean Square Error for training data.\"\"\" \n",
    "\n",
    "    # Initialize the weights (w_0, w_1, w_2, ..., w_n) to 1\n",
    "    #X_train.shape[1] gives number of columns\n",
    "    weights = np.ones(X_train.shape[1])\n",
    "    y_predict = 1 / (1 + np.exp(-(np.dot(X_train, weights))))\n",
    "\n",
    "    # wTx = dot product of w_1 to w_n with x_0 to x_(n-1) + w_0\n",
    "    # sigmoid(wTx)\n",
    "    y_predict = 1 / (1 + np.exp(-(np.dot(X_train, weights))))\n",
    "\n",
    "    ll = log_loss(y_train.values.flatten(), y_predict)\n",
    "    print(\"log_loss: \", ll) \n",
    "    \n",
    "def logistic_regression_library():\n",
    "    # 3. Implement linear regression using scikit-learn\n",
    "    model = LogisticRegression()\n",
    "    model.fit(X_train, y_train)\n",
    "    \n",
    "    # 4. Predict the output for the test dataset\n",
    "    y_pred = model.predict(X_test)\n",
    "\n",
    "    pd.DataFrame(y_pred, columns=['Chance of Admit']).to_csv(\"y_predict_q6.csv\", index=False)\n",
    "    \n",
    "logistic_regression_equation()\n",
    "logistic_regression_library()"
   ]
  },
  {
   "cell_type": "code",
   "execution_count": null,
   "id": "f48549c9",
   "metadata": {},
   "outputs": [],
   "source": []
  }
 ],
 "metadata": {
  "kernelspec": {
   "display_name": "Python 3 (ipykernel)",
   "language": "python",
   "name": "python3"
  },
  "language_info": {
   "codemirror_mode": {
    "name": "ipython",
    "version": 3
   },
   "file_extension": ".py",
   "mimetype": "text/x-python",
   "name": "python",
   "nbconvert_exporter": "python",
   "pygments_lexer": "ipython3",
   "version": "3.11.4"
  }
 },
 "nbformat": 4,
 "nbformat_minor": 5
}

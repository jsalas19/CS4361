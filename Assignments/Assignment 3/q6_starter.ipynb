{
 "cells": [
  {
   "cell_type": "code",
   "execution_count": 3,
   "id": "7057dd9b",
   "metadata": {},
   "outputs": [
    {
     "ename": "AttributeError",
     "evalue": "'numpy.ndarray' object has no attribute 'to_numpy'",
     "output_type": "error",
     "traceback": [
      "\u001b[1;31m---------------------------------------------------------------------------\u001b[0m",
      "\u001b[1;31mAttributeError\u001b[0m                            Traceback (most recent call last)",
      "\u001b[1;32mc:\\Users\\Joshua Salas\\Desktop\\CS4361\\Assignments\\Assignment 3\\q6_starter.ipynb Cell 1\u001b[0m line \u001b[0;36m5\n\u001b[0;32m     <a href='vscode-notebook-cell:/c%3A/Users/Joshua%20Salas/Desktop/CS4361/Assignments/Assignment%203/q6_starter.ipynb#W0sZmlsZQ%3D%3D?line=46'>47</a>\u001b[0m     y_pred \u001b[39m=\u001b[39m model\u001b[39m.\u001b[39mpredict(X_test)\n\u001b[0;32m     <a href='vscode-notebook-cell:/c%3A/Users/Joshua%20Salas/Desktop/CS4361/Assignments/Assignment%203/q6_starter.ipynb#W0sZmlsZQ%3D%3D?line=48'>49</a>\u001b[0m     pd\u001b[39m.\u001b[39mDataFrame(y_pred, columns\u001b[39m=\u001b[39m[\u001b[39m'\u001b[39m\u001b[39mChance of Admit\u001b[39m\u001b[39m'\u001b[39m])\u001b[39m.\u001b[39mto_csv(\u001b[39m\"\u001b[39m\u001b[39my_predict_q6.csv\u001b[39m\u001b[39m\"\u001b[39m, index\u001b[39m=\u001b[39m\u001b[39mFalse\u001b[39;00m)\n\u001b[1;32m---> <a href='vscode-notebook-cell:/c%3A/Users/Joshua%20Salas/Desktop/CS4361/Assignments/Assignment%203/q6_starter.ipynb#W0sZmlsZQ%3D%3D?line=50'>51</a>\u001b[0m logistic_regression_equation()\n\u001b[0;32m     <a href='vscode-notebook-cell:/c%3A/Users/Joshua%20Salas/Desktop/CS4361/Assignments/Assignment%203/q6_starter.ipynb#W0sZmlsZQ%3D%3D?line=51'>52</a>\u001b[0m logistic_regression_library()\n",
      "\u001b[1;32mc:\\Users\\Joshua Salas\\Desktop\\CS4361\\Assignments\\Assignment 3\\q6_starter.ipynb Cell 1\u001b[0m line \u001b[0;36m3\n\u001b[0;32m     <a href='vscode-notebook-cell:/c%3A/Users/Joshua%20Salas/Desktop/CS4361/Assignments/Assignment%203/q6_starter.ipynb#W0sZmlsZQ%3D%3D?line=32'>33</a>\u001b[0m y_predict\u001b[39m=\u001b[39m[]\n\u001b[0;32m     <a href='vscode-notebook-cell:/c%3A/Users/Joshua%20Salas/Desktop/CS4361/Assignments/Assignment%203/q6_starter.ipynb#W0sZmlsZQ%3D%3D?line=33'>34</a>\u001b[0m \u001b[39m# write your code here.\u001b[39;00m\n\u001b[1;32m---> <a href='vscode-notebook-cell:/c%3A/Users/Joshua%20Salas/Desktop/CS4361/Assignments/Assignment%203/q6_starter.ipynb#W0sZmlsZQ%3D%3D?line=35'>36</a>\u001b[0m ll \u001b[39m=\u001b[39m log_loss(y_train\u001b[39m.\u001b[39mvalues\u001b[39m.\u001b[39mflatten(), y_predict)\n\u001b[0;32m     <a href='vscode-notebook-cell:/c%3A/Users/Joshua%20Salas/Desktop/CS4361/Assignments/Assignment%203/q6_starter.ipynb#W0sZmlsZQ%3D%3D?line=36'>37</a>\u001b[0m \u001b[39mprint\u001b[39m(\u001b[39m\"\u001b[39m\u001b[39mlog_loss: \u001b[39m\u001b[39m\"\u001b[39m, ll)\n",
      "\u001b[1;32mc:\\Users\\Joshua Salas\\Desktop\\CS4361\\Assignments\\Assignment 3\\q6_starter.ipynb Cell 1\u001b[0m line \u001b[0;36m1\n\u001b[0;32m     <a href='vscode-notebook-cell:/c%3A/Users/Joshua%20Salas/Desktop/CS4361/Assignments/Assignment%203/q6_starter.ipynb#W0sZmlsZQ%3D%3D?line=9'>10</a>\u001b[0m \u001b[39mdef\u001b[39;00m \u001b[39mlog_loss\u001b[39m(y_true, y_pred):\n\u001b[0;32m     <a href='vscode-notebook-cell:/c%3A/Users/Joshua%20Salas/Desktop/CS4361/Assignments/Assignment%203/q6_starter.ipynb#W0sZmlsZQ%3D%3D?line=10'>11</a>\u001b[0m     \u001b[39m# if your y_true is a numpy array then the following line not needed.\u001b[39;00m\n\u001b[0;32m     <a href='vscode-notebook-cell:/c%3A/Users/Joshua%20Salas/Desktop/CS4361/Assignments/Assignment%203/q6_starter.ipynb#W0sZmlsZQ%3D%3D?line=11'>12</a>\u001b[0m     \u001b[39m# y_true should be \u001b[39;00m\n\u001b[1;32m---> <a href='vscode-notebook-cell:/c%3A/Users/Joshua%20Salas/Desktop/CS4361/Assignments/Assignment%203/q6_starter.ipynb#W0sZmlsZQ%3D%3D?line=12'>13</a>\u001b[0m     y_true \u001b[39m=\u001b[39m y_true\u001b[39m.\u001b[39msqueeze()\u001b[39m.\u001b[39mto_numpy() \u001b[39m# convert dataframe to numpy row array. \u001b[39;00m\n\u001b[0;32m     <a href='vscode-notebook-cell:/c%3A/Users/Joshua%20Salas/Desktop/CS4361/Assignments/Assignment%203/q6_starter.ipynb#W0sZmlsZQ%3D%3D?line=13'>14</a>\u001b[0m     loss \u001b[39m=\u001b[39m \u001b[39m0\u001b[39m\n\u001b[0;32m     <a href='vscode-notebook-cell:/c%3A/Users/Joshua%20Salas/Desktop/CS4361/Assignments/Assignment%203/q6_starter.ipynb#W0sZmlsZQ%3D%3D?line=14'>15</a>\u001b[0m     \u001b[39mfor\u001b[39;00m i \u001b[39min\u001b[39;00m \u001b[39mrange\u001b[39m(\u001b[39mlen\u001b[39m(y_true)):\n\u001b[0;32m     <a href='vscode-notebook-cell:/c%3A/Users/Joshua%20Salas/Desktop/CS4361/Assignments/Assignment%203/q6_starter.ipynb#W0sZmlsZQ%3D%3D?line=15'>16</a>\u001b[0m         \u001b[39m# Calculate log loss\u001b[39;00m\n",
      "\u001b[1;31mAttributeError\u001b[0m: 'numpy.ndarray' object has no attribute 'to_numpy'"
     ]
    }
   ],
   "source": [
    "import pandas as pd\n",
    "import math\n",
    "from sklearn.linear_model import LogisticRegression\n",
    "import numpy as np\n",
    "# 1. Load the datasets using pandas\n",
    "X_train = pd.read_csv('lab3_dataset/q6/X_train_q6.csv')\n",
    "y_train = pd.read_csv('lab3_dataset/q6/y_train_q6.csv')\n",
    "X_test = pd.read_csv('lab3_dataset/q6/X_test_q6.csv')\n",
    "\n",
    "def log_loss(y_true, y_pred):\n",
    "    # if your y_true is a numpy array then the following line not needed.\n",
    "    # y_true should be \n",
    "    y_true = y_true.squeeze().to_numpy() # convert dataframe to numpy row array. \n",
    "    loss = 0\n",
    "    for i in range(len(y_true)):\n",
    "        # Calculate log loss\n",
    "        loss += -np.mean(y_true[i] * np.log(y_pred[i]) + (1 - y_true[i]) * np.log(1 - y_pred[i]))\n",
    "    return loss\n",
    "\n",
    "def logistic_regression_equation():\n",
    "    \"\"\" 2. use equation y = 1/(1+ e^-(w_0 + w_1x_1 + w_2x_2 + .... + w_nx_n), to calculate 'Chance of Admit' \n",
    "           given w0=w1=w2=....=wn=1. Calcuate the Mean Square Error for training data.\"\"\" \n",
    "\n",
    "    # Initialize the weights (w_0, w_1, w_2, ..., w_n) to 1\n",
    "    #X_train.shape[1] gives number of columns\n",
    "    weights = np.ones(X_train.shape[1])\n",
    "    \n",
    "    # write your code here.\n",
    "    y_predict = 1 / (1 + np.exp(-(np.dot(X_train, weights))))\n",
    "\n",
    "    # wTx = dot product of w_1 to w_n with x_0 to x_(n-1) + w_0\n",
    "    # sigmoid(wTx)\n",
    "    y_predict=[]\n",
    "    # write your code here.\n",
    "\n",
    "    ll = log_loss(y_train.values.flatten(), y_predict)\n",
    "    print(\"log_loss: \", ll) \n",
    "    \n",
    "def logistic_regression_library():\n",
    "    # 3. Implement linear regression using scikit-learn\n",
    "    # write your code here.\n",
    "    model = LogisticRegression()\n",
    "    model.fit(X_train, y_train.values.ravel())\n",
    "    \n",
    "    # 4. Predict the output for the test dataset\n",
    "    # write your code here.\n",
    "    y_pred = model.predict(X_test)\n",
    "\n",
    "    pd.DataFrame(y_pred, columns=['Chance of Admit']).to_csv(\"y_predict_q6.csv\", index=False)\n",
    "    \n",
    "logistic_regression_equation()\n",
    "logistic_regression_library()"
   ]
  },
  {
   "cell_type": "code",
   "execution_count": null,
   "id": "f48549c9",
   "metadata": {},
   "outputs": [],
   "source": []
  }
 ],
 "metadata": {
  "kernelspec": {
   "display_name": "Python 3 (ipykernel)",
   "language": "python",
   "name": "python3"
  },
  "language_info": {
   "codemirror_mode": {
    "name": "ipython",
    "version": 3
   },
   "file_extension": ".py",
   "mimetype": "text/x-python",
   "name": "python",
   "nbconvert_exporter": "python",
   "pygments_lexer": "ipython3",
   "version": "3.11.4"
  }
 },
 "nbformat": 4,
 "nbformat_minor": 5
}

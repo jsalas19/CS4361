{
 "cells": [
  {
   "cell_type": "markdown",
   "metadata": {},
   "source": [
    "#### Name:  Joshua Salas\n",
    "#### Student  ID: 80644497\n",
    "#### Email:  jsalas19@miners.utep.edu"
   ]
  },
  {
   "cell_type": "code",
   "execution_count": 1,
   "metadata": {
    "id": "xhmIOLiZELV_"
   },
   "outputs": [],
   "source": [
    "# import libraries\n",
    "import numpy as np\n",
    "import matplotlib.pyplot as plt\n",
    "from matplotlib import cm\n",
    "from matplotlib.colors import ListedColormap"
   ]
  },
  {
   "cell_type": "code",
   "execution_count": 2,
   "metadata": {
    "id": "4cRkrh9MZ58Z"
   },
   "outputs": [],
   "source": [
    "# Let's create our training data 12 pairs {x_i, y_i}\n",
    "# We'll try to fit the straight line model to these data\n",
    "data = np.array([[0.05,0.22,0.34,0.46,0.68,0.91,1.08,1.18,1.39,1.60,1.65,1.90],\n",
    "                 [0.37,0.82,1.05,1.00,1.20,1.50,1.30,1.54,1.25,1.68,1.73,1.60]])"
   ]
  },
  {
   "cell_type": "code",
   "execution_count": 3,
   "metadata": {
    "id": "WQUERmb2erAe"
   },
   "outputs": [],
   "source": [
    "# Let's define our model\n",
    "def model(phi,x):\n",
    "  y_pred = phi[0]+phi[1] * x + phi[2]*x*x\n",
    "  return y_pred"
   ]
  },
  {
   "cell_type": "code",
   "execution_count": 7,
   "metadata": {
    "id": "TXx1Tpd1Tl-I"
   },
   "outputs": [],
   "source": [
    "# Initialize the parameters to some arbitrary values\n",
    "phi = np.zeros((3,1))\n",
    "phi[0] = 0.7\n",
    "phi[1] = 0.4\n",
    "phi[2] = 0.3\n",
    "\n"
   ]
  },
  {
   "cell_type": "code",
   "execution_count": 4,
   "metadata": {
    "id": "I7dqTY2Gg7CR"
   },
   "outputs": [],
   "source": [
    "#define MSE loss:\n",
    "def compute_loss(data_x, data_y, phi):\n",
    "\n",
    "  print(data_x)\n",
    "  error = 0\n",
    "  for i in range(data_x.shape[0]):\n",
    "    y_p = model(phi,data_x[i])\n",
    "    #print('y_p is {} y_true is {}'.format(y_p,data_y[i]))\n",
    "    error += (y_p - data_y[i])*(y_p - data_y[i])\n",
    "\n",
    "  loss = (error)/data_x.shape[0]\n",
    "  print('Loss is {}'.format(loss))\n",
    "  return loss"
   ]
  },
  {
   "cell_type": "code",
   "execution_count": 8,
   "metadata": {
    "colab": {
     "base_uri": "https://localhost:8080/"
    },
    "id": "Ty05UtEEg9tc",
    "outputId": "5c3f4507-8884-46c9-8f6a-a22fb3dc04c6"
   },
   "outputs": [
    {
     "name": "stdout",
     "output_type": "stream",
     "text": [
      "[0.05 0.22 0.34 0.46 0.68 0.91 1.08 1.18 1.39 1.6  1.65 1.9 ]\n",
      "Loss is [0.15432888]\n",
      "Your loss = 0.154\n"
     ]
    }
   ],
   "source": [
    "loss = compute_loss(data[0,:],data[1,:],phi)\n",
    "print('Your loss = %3.3f'%(loss))"
   ]
  },
  {
   "cell_type": "code",
   "execution_count": 9,
   "metadata": {
    "id": "UpswmkL2qwBT"
   },
   "outputs": [],
   "source": [
    "\n",
    "def change_in_loss(data_x,data_y,gradients,phi,lr=0.01):\n",
    "  #Implement this function\n",
    "  new_phi = phi - lr * gradients\n",
    "  loss = compute_loss(data_x, data_y, phi)\n",
    "  loss_new = compute_loss(data_x, data_y, new_phi)\n",
    "  print('Difference between old loss {} and new loss {}'.format(loss,loss_new))\n",
    "\n",
    "\n",
    "\n",
    "\n",
    "\n",
    "def compute_gradient(data_x, data_y, phi,d=0.005):\n",
    "\n",
    "    dl_dphi0 = (compute_loss(data_x, data_y, phi + np.array([[d], [0], [0]])) - compute_loss(data_x, data_y, phi)) / d\n",
    "    dl_dphi1 = (compute_loss(data_x, data_y, phi + np.array([[0], [d], [0]])) - compute_loss(data_x, data_y, phi)) / d\n",
    "    dl_dphi2 = (compute_loss(data_x, data_y, phi + np.array([[0], [0], [d]])) - compute_loss(data_x, data_y, phi)) / d\n",
    "\n",
    "    \n",
    "    return np.array([[dl_dphi0],[dl_dphi1],[dl_dphi2]])"
   ]
  },
  {
   "cell_type": "markdown",
   "metadata": {
    "id": "RS1nEcYVuEAM"
   },
   "source": [
    "We can check the gradient using a trick known as **finite differences**.  If we evaluate the function and then change one of the parameters by a very small amount and normalize by that amount, we get an approximation to the gradient, so:\n",
    "\n",
    "\\begin{eqnarray}\n",
    "\\frac{\\partial L}{\\partial \\phi_{0}}&\\approx & \\frac{L[\\phi_0+\\delta, \\phi_1, \\phi_2]-L[\\phi_0, \\phi_1, \\phi_2]}{\\delta}\\\\\n",
    "\\frac{\\partial L}{\\partial \\phi_{1}}&\\approx & \\frac{L[\\phi_0, \\phi_1+\\delta, \\phi_2]-L[\\phi_0, \\phi_1, \\phi_2]}{\\delta}\\\\\n",
    "\\frac{\\partial L}{\\partial \\phi_{2}}&\\approx & \\frac{L[\\phi_0, \\phi_1, \\phi_2 + \\delta]-L[\\phi_0, \\phi_1, \\phi_2]}{\\delta}\n",
    "\\end{eqnarray}\n",
    "\n"
   ]
  },
  {
   "cell_type": "code",
   "execution_count": 10,
   "metadata": {
    "colab": {
     "base_uri": "https://localhost:8080/"
    },
    "id": "QuwAHN7yt-gi",
    "outputId": "cad8db3d-2769-492d-d343-5bc4ec0e8b2e"
   },
   "outputs": [
    {
     "name": "stdout",
     "output_type": "stream",
     "text": [
      "[0.05 0.22 0.34 0.46 0.68 0.91 1.08 1.18 1.39 1.6  1.65 1.9 ]\n",
      "Loss is [0.15640355]\n",
      "[0.05 0.22 0.34 0.46 0.68 0.91 1.08 1.18 1.39 1.6  1.65 1.9 ]\n",
      "Loss is [0.15432888]\n",
      "[0.05 0.22 0.34 0.46 0.68 0.91 1.08 1.18 1.39 1.6  1.65 1.9 ]\n",
      "Loss is [0.15767688]\n",
      "[0.05 0.22 0.34 0.46 0.68 0.91 1.08 1.18 1.39 1.6  1.65 1.9 ]\n",
      "Loss is [0.15432888]\n",
      "[0.05 0.22 0.34 0.46 0.68 0.91 1.08 1.18 1.39 1.6  1.65 1.9 ]\n",
      "Loss is [0.16015235]\n",
      "[0.05 0.22 0.34 0.46 0.68 0.91 1.08 1.18 1.39 1.6  1.65 1.9 ]\n",
      "Loss is [0.15432888]\n",
      "[0.05 0.22 0.34 0.46 0.68 0.91 1.08 1.18 1.39 1.6  1.65 1.9 ]\n",
      "Loss is [0.15432888]\n",
      "[0.05 0.22 0.34 0.46 0.68 0.91 1.08 1.18 1.39 1.6  1.65 1.9 ]\n",
      "Loss is [[1.75756976]\n",
      " [0.17642889]\n",
      " [0.18127474]]\n",
      "Difference between old loss [0.15432888] and new loss [[1.75756976]\n",
      " [0.17642889]\n",
      " [0.18127474]]\n"
     ]
    }
   ],
   "source": [
    "# Compute the gradient using your function\n",
    "\n",
    "gradients = compute_gradient(data[0,:],data[1,:], phi)\n",
    "change_in_loss = change_in_loss(data[0,:],data[1,:],gradients,phi)\n",
    "\n"
   ]
  }
 ],
 "metadata": {
  "colab": {
   "provenance": []
  },
  "kernelspec": {
   "display_name": "Python 3 (ipykernel)",
   "language": "python",
   "name": "python3"
  },
  "language_info": {
   "codemirror_mode": {
    "name": "ipython",
    "version": 3
   },
   "file_extension": ".py",
   "mimetype": "text/x-python",
   "name": "python",
   "nbconvert_exporter": "python",
   "pygments_lexer": "ipython3",
   "version": "3.11.4"
  }
 },
 "nbformat": 4,
 "nbformat_minor": 1
}

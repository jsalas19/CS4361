{
 "cells": [
  {
   "cell_type": "code",
   "execution_count": 1,
   "metadata": {
    "colab": {
     "base_uri": "https://localhost:8080/",
     "height": 143
    },
    "id": "Oa8v-Pd9Hriz",
    "outputId": "92541256-15fc-4f93-fd5f-4135035fba64"
   },
   "outputs": [
    {
     "ename": "IndentationError",
     "evalue": "expected an indented block (4284852210.py, line 30)",
     "output_type": "error",
     "traceback": [
      "\u001b[0;36m  File \u001b[0;32m\"/tmp/ipykernel_1563650/4284852210.py\"\u001b[0;36m, line \u001b[0;32m30\u001b[0m\n\u001b[0;31m    def kernelized_perceptron(X,Y):\u001b[0m\n\u001b[0m                                   ^\u001b[0m\n\u001b[0;31mIndentationError\u001b[0m\u001b[0;31m:\u001b[0m expected an indented block\n"
     ]
    }
   ],
   "source": [
    "import pandas as pd\n",
    "import numpy as np\n",
    "import math\n",
    "import sklearn.metrics.pairwise as kernel_lib\n",
    "\n",
    "df = pd.read_csv('https://archive.ics.uci.edu/ml/machine-learning-databases/iris/iris.data', header=None)\n",
    "num_features = 4\n",
    "start_index = 0 #for the task of classifying versicolor vs virginia, change it to 50\n",
    "end_index = 100 #for the task of classifying versicolor vs virginia, change it to 150\n",
    "y = df.iloc[start_index:end_index, num_features].values\n",
    "y = np.array(y)\n",
    "y = np.where(y == 'Iris-versicolor', -1, 1)\n",
    "X = df.iloc[start_index:end_index,:num_features].values\n",
    "\n",
    "def baseline_perceptron(X,Y):\n",
    "    max_iter = 100000\n",
    "    w = np.zeros(X.shape[1])\n",
    "    b = 0\n",
    "    i = 0\n",
    "    correct_count = 0\n",
    "    while correct_count < X.shape[0] and i < max_iter:\n",
    "        # exit when number of mistakes = 0\n",
    "        # if mistake > 0 iterate over entire perceptron\n",
    "        i = i+1\n",
    "        for j in range(X.shape[0]):\n",
    "            #implement baseline perceptron\n",
    "            #iterate over your entire dataset\n",
    "    #return i epoch at which you exit or epoch at which your algorithm converges\n",
    "\n",
    "def kernelized_perceptron(X,Y):\n",
    "    max_iter = 100000\n",
    "    K_map = kernel_lib.polynomial_kernel(X,X,degree=25)\n",
    "    alpha_map = np.zeros(X.shape[0])\n",
    "    b = 0\n",
    "    i = 0\n",
    "    correct_count = 0\n",
    "    while correct_count < X.shape[0] and i < max_iter:\n",
    "        # exit when number of mistakes = 0\n",
    "        # if mistake > 0 iterate over entire perceptron\n",
    "        i = i+1\n",
    "        for j in range(X.shape[0]):\n",
    "            #implement baseline perceptron\n",
    "            #iterate over your entire dataset\n",
    "    # return i epoch at which you exit or epoch at which your algorithm converges"
   ]
  },
  {
   "cell_type": "code",
   "execution_count": null,
   "metadata": {
    "id": "4WM2fiXgIWH7"
   },
   "outputs": [],
   "source": []
  }
 ],
 "metadata": {
  "colab": {
   "provenance": []
  },
  "kernelspec": {
   "display_name": "Python 3 (ipykernel)",
   "language": "python",
   "name": "python3"
  },
  "language_info": {
   "codemirror_mode": {
    "name": "ipython",
    "version": 3
   },
   "file_extension": ".py",
   "mimetype": "text/x-python",
   "name": "python",
   "nbconvert_exporter": "python",
   "pygments_lexer": "ipython3",
   "version": "3.7.6"
  }
 },
 "nbformat": 4,
 "nbformat_minor": 1
}
